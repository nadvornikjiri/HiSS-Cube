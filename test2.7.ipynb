{
 "cells": [
  {
   "cell_type": "code",
   "execution_count": 8,
   "metadata": {
    "scrolled": true
   },
   "outputs": [
    {
     "name": "stdout",
     "output_type": "stream",
     "text": [
      "<type 'numpy.float32'>\n"
     ]
    }
   ],
   "source": [
    "from astropy.io import fits\n",
    "from pathlib import Path\n",
    "from rasdapy.models.sinterval import SInterval\n",
    "from rasdapy.db_connector import DBConnector\n",
    "from rasdapy.query_executor import QueryExecutor\n",
    "\n",
    "testPath = \"data/images/301/4797/1/frame-g-004797-1-0019.fits.bz2\"\n",
    "\n",
    "def readFITSFiles():\n",
    "    pathlist = Path(\"./data\").glob('**/*.fits*')\n",
    "    for path in pathlist:\n",
    "        print path\n",
    "        read_fits_file(path)\n",
    "        \n",
    "def read_fits_file(f_name):\n",
    "    with fits.open(f_name, memmap=True) as hdul:\n",
    "        data = hdul[0].data\n",
    "        print(type(data[0][0]))\n",
    "    \n",
    "        \n",
    "#readFITSFiles()\n",
    "read_fits_file(testPath)\n",
    "        \n"
   ]
  },
  {
   "cell_type": "code",
   "execution_count": null,
   "metadata": {},
   "outputs": [],
   "source": [
    "import fitsio\n",
    "\n",
    "def readFITSFiles():\n",
    "    pathlist = Path(\"./data\").glob('**/*.fits*')\n",
    "    for path in pathlist:\n",
    "        print path\n",
    "        %timeit read_test_fitsio(path)\n",
    " \n",
    "def read_test_fitsio(filename):\n",
    "    with fitsio.FITS(filename) as f:\n",
    "        data = f[0].read()\n",
    "        c = data.copy()\n",
    "    \n",
    "        \n",
    "readFITSFiles()"
   ]
  },
  {
   "cell_type": "code",
   "execution_count": 10,
   "metadata": {},
   "outputs": [
    {
     "name": "stdout",
     "output_type": "stream",
     "text": [
      "['mr2', 'rgb', 'mr']\n",
      "\u0000\u0000\u0000\u0000\u0000\u0000\u0000\u0000\u0000\u0000\u0000\u0000\u0000\u0000\u0000\u0000\u0000\u0000\u0000\u0000\u0000\u0000\u0000\u0000\u0000\u0000\u0000\u0000\u0000\u0000\u0000\u0000\u0000\u0000\u0000\u0000\u0000\u0000\u0000\u0000\u0000\u0000\u0000\u0000\u0000\u0000\u0000\u0000\u0000\u0000\u0000\u0000\u0000\u0000\u0000\u0000\u0000\u0000\u0000\u0000\u0000\u0000\u0000\u0000\u0000\u0000\u0000\u0000\u0000\u0000\u0000\u0000\u0000\u0000\u0000\u0000\u0000\u0000\u0000\u0000\u0000\u0000\u0000\u0000\u0000\u0000\u0000\u0000\u0000\u0000\u0000\u0000\u0000\u0000\u0000\u0000\u0000\u0000\u0000\u0000\u0000\u0000\u0000\u0000\u0000\u0000\u0000\u0000\u0000\u0000\u0000\u0000\u0000\u0000\u0000\u0000\u0000\u0000\u0000\u0000\u0000\n",
      "[[0 0 0 0 0 0 0 0 0 0 0]\n",
      " [0 0 0 0 0 0 0 0 0 0 0]\n",
      " [0 0 0 0 0 0 0 0 0 0 0]\n",
      " [0 0 0 0 0 0 0 0 0 0 0]\n",
      " [0 0 0 0 0 0 0 0 0 0 0]\n",
      " [0 0 0 0 0 0 0 0 0 0 0]\n",
      " [0 0 0 0 0 0 0 0 0 0 0]\n",
      " [0 0 0 0 0 0 0 0 0 0 0]\n",
      " [0 0 0 0 0 0 0 0 0 0 0]\n",
      " [0 0 0 0 0 0 0 0 0 0 0]\n",
      " [0 0 0 0 0 0 0 0 0 0 0]]\n"
     ]
    }
   ],
   "source": [
    "db_connector = DBConnector(\"localhost\", 7001, \"rasadmin\", \"rasadmin\")\n",
    "query_executor = QueryExecutor(db_connector)\n",
    "db_connector.open()\n",
    "\n",
    "collection_list = query_executor.execute_read(\"select c from RAS_COLLECTIONNAMES as c\")\n",
    "print (collection_list)\n",
    "\n",
    "query_executor.execute_write(\"create collection sdss_cube \")"
   ]
  }
 ],
 "metadata": {
  "kernelspec": {
   "display_name": "venv2.7",
   "language": "python",
   "name": "venv2.7"
  },
  "language_info": {
   "codemirror_mode": {
    "name": "ipython",
    "version": 2
   },
   "file_extension": ".py",
   "mimetype": "text/x-python",
   "name": "python",
   "nbconvert_exporter": "python",
   "pygments_lexer": "ipython2",
   "version": "2.7.17"
  }
 },
 "nbformat": 4,
 "nbformat_minor": 2
}
