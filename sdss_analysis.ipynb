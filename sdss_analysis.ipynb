{
 "cells": [
  {
   "cell_type": "code",
   "execution_count": 2,
   "metadata": {
    "scrolled": false
   },
   "outputs": [],
   "source": [
    "from pathlib import Path\n",
    "\n",
    "from astropy.io import fits\n",
    "from matplotlib import rc\n",
    "import matplotlib.pyplot as plt\n",
    "import numpy as np\n",
    "import pandas as pd\n",
    "\n",
    "from qso import sdss"
   ]
  },
  {
   "cell_type": "code",
   "execution_count": 2,
   "metadata": {},
   "outputs": [],
   "source": [
    "rc(\"font\", family=\"serif\")\n",
    "rc(\"text\", usetex=True)"
   ]
  },
  {
   "cell_type": "code",
   "execution_count": 3,
   "metadata": {},
   "outputs": [],
   "source": [
    "SDSS_DIR = Path(\"data\") / \"sdss\"\n",
    "SDSS_DR14 = SDSS_DIR / \"sdss_dr14\"\n",
    "SDSS_CATALOG = SDSS_DIR / \"specObj-dr14.fits\"\n",
    "SDSS_QSO_CATALOG = SDSS_DIR / \"DR14Q_v4_4.fits\"\n",
    "FIGS_DIR = Path(\"figs\")"
   ]
  },
  {
   "cell_type": "code",
   "execution_count": 4,
   "metadata": {},
   "outputs": [],
   "source": [
    "# wavelengths from `lamost_analysis.ipynb`\n",
    "WAVEMIN, WAVEMAX = 3839.7244, 8914.597"
   ]
  },
  {
   "cell_type": "markdown",
   "metadata": {},
   "source": [
    "# SDSS DR14 Optical Spectra Catalog\n",
    "\n",
    "According to [data model](https://data.sdss.org/datamodel/files/SPECTRO_REDUX/specObj.html)\n",
    "contains the list of all spectra for a given data release,\n",
    "with associated parameters from the 2D and 1D pipelines for each."
   ]
  },
  {
   "cell_type": "code",
   "execution_count": 5,
   "metadata": {},
   "outputs": [
    {
     "name": "stdout",
     "output_type": "stream",
     "text": [
      "Filename: data/sdss/specObj-dr14.fits\n",
      "No.    Name      Ver    Type      Cards   Dimensions   Format\n",
      "  0  PRIMARY       1 PrimaryHDU       6   ()      \n",
      "  1                1 BinTableHDU    283   4851200R x 133C   [6A, 4A, 16A, 27A, 16A, 8A, E, E, E, J, E, E, J, B, B, B, B, B, B, B, J, 22A, 19A, 19A, 22A, 20A, I, 4A, 7A, 7A, J, D, D, D, E, E, 22A, 8A, K, J, J, J, J, J, K, K, J, J, J, J, J, J, K, K, K, K, K, K, K, K, I, J, J, J, J, 5J, D, D, 6A, 21A, E, E, E, J, E, 24A, 10J, J, 10E, E, E, E, E, E, E, J, E, E, E, J, E, 5E, E, 10E, 10E, 10E, 5E, 5E, 5E, 5E, 5E, J, J, E, E, E, E, E, E, 25A, 21A, 12A, E, E, E, E, E, E, E, E, J, E, E, J, 6A, 21A, E, E, J, J, A, 5E, 5E]   \n"
     ]
    }
   ],
   "source": [
    "with fits.open(SDSS_CATALOG) as catalog_hdul:\n",
    "    catalog_hdul.info()\n",
    "    catalog = catalog_hdul[1].data\n",
    "\n",
    "n_spec = catalog.shape[0]"
   ]
  },
  {
   "cell_type": "code",
   "execution_count": 6,
   "metadata": {},
   "outputs": [
    {
     "data": {
      "text/plain": [
       "(dtype('>i4'), dtype('>i4'), dtype('>i4'))"
      ]
     },
     "execution_count": 6,
     "metadata": {},
     "output_type": "execute_result"
    }
   ],
   "source": [
    "catalog[\"plate\"].dtype, catalog[\"mjd\"].dtype, catalog[\"fiberid\"].dtype"
   ]
  },
  {
   "cell_type": "code",
   "execution_count": 7,
   "metadata": {},
   "outputs": [
    {
     "name": "stdout",
     "output_type": "stream",
     "text": [
      "<class 'pandas.core.frame.DataFrame'>\n",
      "MultiIndex: 4851200 entries, (266, 51602, 1) to (10000, 57346, 1000)\n",
      "Data columns (total 5 columns):\n",
      "platequality    category\n",
      "targettype      category\n",
      "wavemax         float32\n",
      "wavemin         float32\n",
      "zwarning        int32\n",
      "dtypes: category(2), float32(2), int32(1)\n",
      "memory usage: 92.6 MB\n"
     ]
    },
    {
     "data": {
      "text/html": [
       "<div>\n",
       "<style scoped>\n",
       "    .dataframe tbody tr th:only-of-type {\n",
       "        vertical-align: middle;\n",
       "    }\n",
       "\n",
       "    .dataframe tbody tr th {\n",
       "        vertical-align: top;\n",
       "    }\n",
       "\n",
       "    .dataframe thead th {\n",
       "        text-align: right;\n",
       "    }\n",
       "</style>\n",
       "<table border=\"1\" class=\"dataframe\">\n",
       "  <thead>\n",
       "    <tr style=\"text-align: right;\">\n",
       "      <th></th>\n",
       "      <th></th>\n",
       "      <th></th>\n",
       "      <th>platequality</th>\n",
       "      <th>targettype</th>\n",
       "      <th>wavemax</th>\n",
       "      <th>wavemin</th>\n",
       "      <th>zwarning</th>\n",
       "    </tr>\n",
       "    <tr>\n",
       "      <th>plate</th>\n",
       "      <th>mjd</th>\n",
       "      <th>fiberid</th>\n",
       "      <th></th>\n",
       "      <th></th>\n",
       "      <th></th>\n",
       "      <th></th>\n",
       "      <th></th>\n",
       "    </tr>\n",
       "  </thead>\n",
       "  <tbody>\n",
       "    <tr>\n",
       "      <th rowspan=\"5\" valign=\"top\">266</th>\n",
       "      <th rowspan=\"5\" valign=\"top\">51602</th>\n",
       "      <th>1</th>\n",
       "      <td>bad</td>\n",
       "      <td>SCIENCE</td>\n",
       "      <td>9202.376953</td>\n",
       "      <td>3806.273682</td>\n",
       "      <td>0</td>\n",
       "    </tr>\n",
       "    <tr>\n",
       "      <th>2</th>\n",
       "      <td>bad</td>\n",
       "      <td>SCIENCE</td>\n",
       "      <td>9202.376953</td>\n",
       "      <td>3806.273682</td>\n",
       "      <td>0</td>\n",
       "    </tr>\n",
       "    <tr>\n",
       "      <th>3</th>\n",
       "      <td>bad</td>\n",
       "      <td>SCIENCE</td>\n",
       "      <td>9202.376953</td>\n",
       "      <td>3806.273682</td>\n",
       "      <td>0</td>\n",
       "    </tr>\n",
       "    <tr>\n",
       "      <th>4</th>\n",
       "      <td>bad</td>\n",
       "      <td>SCIENCE</td>\n",
       "      <td>9202.376953</td>\n",
       "      <td>3806.273682</td>\n",
       "      <td>0</td>\n",
       "    </tr>\n",
       "    <tr>\n",
       "      <th>5</th>\n",
       "      <td>bad</td>\n",
       "      <td>SCIENCE</td>\n",
       "      <td>9202.376953</td>\n",
       "      <td>3805.397217</td>\n",
       "      <td>0</td>\n",
       "    </tr>\n",
       "  </tbody>\n",
       "</table>\n",
       "</div>"
      ],
      "text/plain": [
       "                    platequality targettype      wavemax      wavemin  \\\n",
       "plate mjd   fiberid                                                     \n",
       "266   51602 1           bad        SCIENCE   9202.376953  3806.273682   \n",
       "            2           bad        SCIENCE   9202.376953  3806.273682   \n",
       "            3           bad        SCIENCE   9202.376953  3806.273682   \n",
       "            4           bad        SCIENCE   9202.376953  3806.273682   \n",
       "            5           bad        SCIENCE   9202.376953  3805.397217   \n",
       "\n",
       "                     zwarning  \n",
       "plate mjd   fiberid            \n",
       "266   51602 1               0  \n",
       "            2               0  \n",
       "            3               0  \n",
       "            4               0  \n",
       "            5               0  "
      ]
     },
     "execution_count": 7,
     "metadata": {},
     "output_type": "execute_result"
    }
   ],
   "source": [
    "# convert dtypes to machine native\n",
    "arrays = [\n",
    "    catalog[\"plate\"].astype(\"i4\"),\n",
    "    catalog[\"mjd\"].astype(\"i4\"),\n",
    "    catalog[\"fiberid\"].astype(\"i4\")\n",
    "]\n",
    "multiindex = pd.MultiIndex.from_arrays(\n",
    "    arrays,\n",
    "    names=[\"plate\", \"mjd\", \"fiberid\"]\n",
    ")\n",
    "\n",
    "data = {\n",
    "    \"platequality\": pd.Categorical(catalog[\"platequality\"]),\n",
    "    \"targettype\": pd.Categorical(catalog[\"targettype\"]),\n",
    "    \"wavemax\": catalog[\"wavemax\"].astype(\"f4\"),\n",
    "    \"wavemin\": catalog[\"wavemin\"].astype(\"f4\"),\n",
    "    \"zwarning\": catalog[\"zwarning\"].astype(\"i4\")\n",
    "}\n",
    "catalog_df = pd.DataFrame(data, index=multiindex).sort_index()\n",
    "\n",
    "catalog_df.info()\n",
    "catalog_df.head()"
   ]
  },
  {
   "cell_type": "code",
   "execution_count": 8,
   "metadata": {},
   "outputs": [],
   "source": [
    "catalog_df.loc[catalog_df[\"wavemax\"] == 0.0, \"wavemax\"] = np.nan\n",
    "catalog_df.loc[catalog_df[\"wavemin\"] == 0.0, \"wavemin\"] = np.nan"
   ]
  },
  {
   "cell_type": "code",
   "execution_count": 9,
   "metadata": {},
   "outputs": [
    {
     "data": {
      "text/html": [
       "<div>\n",
       "<style scoped>\n",
       "    .dataframe tbody tr th:only-of-type {\n",
       "        vertical-align: middle;\n",
       "    }\n",
       "\n",
       "    .dataframe tbody tr th {\n",
       "        vertical-align: top;\n",
       "    }\n",
       "\n",
       "    .dataframe thead th {\n",
       "        text-align: right;\n",
       "    }\n",
       "</style>\n",
       "<table border=\"1\" class=\"dataframe\">\n",
       "  <thead>\n",
       "    <tr style=\"text-align: right;\">\n",
       "      <th></th>\n",
       "      <th></th>\n",
       "      <th></th>\n",
       "      <th>platequality</th>\n",
       "      <th>targettype</th>\n",
       "      <th>wavemax</th>\n",
       "      <th>wavemin</th>\n",
       "      <th>zwarning</th>\n",
       "      <th>unplugged</th>\n",
       "      <th>nodata</th>\n",
       "    </tr>\n",
       "    <tr>\n",
       "      <th>plate</th>\n",
       "      <th>mjd</th>\n",
       "      <th>fiberid</th>\n",
       "      <th></th>\n",
       "      <th></th>\n",
       "      <th></th>\n",
       "      <th></th>\n",
       "      <th></th>\n",
       "      <th></th>\n",
       "      <th></th>\n",
       "    </tr>\n",
       "  </thead>\n",
       "  <tbody>\n",
       "    <tr>\n",
       "      <th rowspan=\"5\" valign=\"top\">266</th>\n",
       "      <th rowspan=\"5\" valign=\"top\">51602</th>\n",
       "      <th>1</th>\n",
       "      <td>bad</td>\n",
       "      <td>SCIENCE</td>\n",
       "      <td>9202.376953</td>\n",
       "      <td>3806.273682</td>\n",
       "      <td>0</td>\n",
       "      <td>False</td>\n",
       "      <td>False</td>\n",
       "    </tr>\n",
       "    <tr>\n",
       "      <th>2</th>\n",
       "      <td>bad</td>\n",
       "      <td>SCIENCE</td>\n",
       "      <td>9202.376953</td>\n",
       "      <td>3806.273682</td>\n",
       "      <td>0</td>\n",
       "      <td>False</td>\n",
       "      <td>False</td>\n",
       "    </tr>\n",
       "    <tr>\n",
       "      <th>3</th>\n",
       "      <td>bad</td>\n",
       "      <td>SCIENCE</td>\n",
       "      <td>9202.376953</td>\n",
       "      <td>3806.273682</td>\n",
       "      <td>0</td>\n",
       "      <td>False</td>\n",
       "      <td>False</td>\n",
       "    </tr>\n",
       "    <tr>\n",
       "      <th>4</th>\n",
       "      <td>bad</td>\n",
       "      <td>SCIENCE</td>\n",
       "      <td>9202.376953</td>\n",
       "      <td>3806.273682</td>\n",
       "      <td>0</td>\n",
       "      <td>False</td>\n",
       "      <td>False</td>\n",
       "    </tr>\n",
       "    <tr>\n",
       "      <th>5</th>\n",
       "      <td>bad</td>\n",
       "      <td>SCIENCE</td>\n",
       "      <td>9202.376953</td>\n",
       "      <td>3805.397217</td>\n",
       "      <td>0</td>\n",
       "      <td>False</td>\n",
       "      <td>False</td>\n",
       "    </tr>\n",
       "  </tbody>\n",
       "</table>\n",
       "</div>"
      ],
      "text/plain": [
       "                    platequality targettype      wavemax      wavemin  \\\n",
       "plate mjd   fiberid                                                     \n",
       "266   51602 1           bad        SCIENCE   9202.376953  3806.273682   \n",
       "            2           bad        SCIENCE   9202.376953  3806.273682   \n",
       "            3           bad        SCIENCE   9202.376953  3806.273682   \n",
       "            4           bad        SCIENCE   9202.376953  3806.273682   \n",
       "            5           bad        SCIENCE   9202.376953  3805.397217   \n",
       "\n",
       "                     zwarning  unplugged  nodata  \n",
       "plate mjd   fiberid                               \n",
       "266   51602 1               0      False   False  \n",
       "            2               0      False   False  \n",
       "            3               0      False   False  \n",
       "            4               0      False   False  \n",
       "            5               0      False   False  "
      ]
     },
     "execution_count": 9,
     "metadata": {},
     "output_type": "execute_result"
    }
   ],
   "source": [
    "zwarning = catalog_df[\"zwarning\"].values\n",
    "\n",
    "# https://www.sdss.org/dr13/algorithms/bitmasks/#ZWARNING\n",
    "unplugged_idx = np.bitwise_and(zwarning, 2 ** 7).astype(\"bool\")\n",
    "nodata_idx = np.bitwise_and(zwarning, 2 ** 9).astype(\"bool\")\n",
    "\n",
    "catalog_df[\"unplugged\"] = False\n",
    "catalog_df.loc[unplugged_idx, \"unplugged\"] = True\n",
    "catalog_df[\"nodata\"] = False\n",
    "catalog_df.loc[nodata_idx, \"nodata\"] = True\n",
    "\n",
    "catalog_df.head()"
   ]
  },
  {
   "cell_type": "markdown",
   "metadata": {},
   "source": [
    "# SDSS DR14 Quasar Catalog\n",
    "\n",
    "Known problems of the catalog are listed in a Jupyter notebook\n",
    "[Preparing SDSS DR14 VACs](https://github.com/noaodatalab/digestor/blob/master/docs/notebooks/Preparing_SDSS_DR14_VACs.ipynb)\n",
    "where VACs value added catalogs."
   ]
  },
  {
   "cell_type": "code",
   "execution_count": 10,
   "metadata": {},
   "outputs": [
    {
     "name": "stdout",
     "output_type": "stream",
     "text": [
      "Filename: data/sdss/DR14Q_v4_4.fits\n",
      "No.    Name      Ver    Type      Cards   Dimensions   Format\n",
      "  0  PRIMARY       1 PrimaryHDU      16   (7055,)   uint8   \n",
      "  1  DR14Q_v4_4    1 BinTableHDU    328   526356R x 105C   [18A, D, D, J, I, J, I, 4A, D, D, 4A, D, D, D, I, D, D, D, K, K, K, K, K, K, I, I, I, 51J, 51J, 51J, 51A, D, D, I, A, I, I, A, 5D, 5D, 5D, 5D, D, 5D, D, D, D, D, D, D, D, D, D, D, D, E, D, D, D, D, D, D, E, I, D, D, E, I, D, D, E, I, D, D, D, D, D, D, D, D, D, D, D, D, D, D, D, D, D, 4A, 4A, D, E, D, D, D, D, D, D, D, D, I, D, D, D]   \n"
     ]
    }
   ],
   "source": [
    "with fits.open(SDSS_QSO_CATALOG) as qso_hdul:\n",
    "    qso_hdul.info()\n",
    "    qso_catalog = qso_hdul[1].data"
   ]
  },
  {
   "cell_type": "code",
   "execution_count": 11,
   "metadata": {},
   "outputs": [
    {
     "data": {
      "text/plain": [
       "(526356, 123435, 649791)"
      ]
     },
     "execution_count": 11,
     "metadata": {},
     "output_type": "execute_result"
    }
   ],
   "source": [
    "n_primary = qso_catalog.shape[0]\n",
    "n_additional = qso_catalog[\"n_spec\"].sum()\n",
    "n_primary, n_additional, n_primary + n_additional"
   ]
  },
  {
   "cell_type": "code",
   "execution_count": 12,
   "metadata": {},
   "outputs": [
    {
     "data": {
      "text/plain": [
       "((103156,), (103156,), (103156,))"
      ]
     },
     "execution_count": 12,
     "metadata": {},
     "output_type": "execute_result"
    }
   ],
   "source": [
    "def get_duplicate_spec(duplicate):\n",
    "    return duplicate[duplicate > 0]\n",
    "\n",
    "plate_duplicate   = get_duplicate_spec(qso_catalog[\"plate_duplicate\"])\n",
    "mjd_duplicate     = get_duplicate_spec(qso_catalog[\"mjd_duplicate\"])\n",
    "fiberid_duplicate = get_duplicate_spec(qso_catalog[\"fiberid_duplicate\"])\n",
    "\n",
    "plate_duplicate.shape, mjd_duplicate.shape, fiberid_duplicate.shape"
   ]
  },
  {
   "cell_type": "code",
   "execution_count": 13,
   "metadata": {},
   "outputs": [
    {
     "data": {
      "text/plain": [
       "(103156, 629512, 20279)"
      ]
     },
     "execution_count": 13,
     "metadata": {},
     "output_type": "execute_result"
    }
   ],
   "source": [
    "n_true_additional = plate_duplicate.shape[0]\n",
    "n_qso = n_primary + n_true_additional\n",
    "n_true_additional, n_qso, (n_primary + n_additional) - n_qso"
   ]
  },
  {
   "cell_type": "code",
   "execution_count": 14,
   "metadata": {},
   "outputs": [
    {
     "data": {
      "text/plain": [
       "(dtype('>i2'), dtype('>i4'), dtype('>i2'))"
      ]
     },
     "execution_count": 14,
     "metadata": {},
     "output_type": "execute_result"
    }
   ],
   "source": [
    "qso_catalog[\"plate\"].dtype, qso_catalog[\"mjd\"].dtype, qso_catalog[\"fiberid\"].dtype"
   ]
  },
  {
   "cell_type": "code",
   "execution_count": 15,
   "metadata": {},
   "outputs": [],
   "source": [
    "def fill_array(arr, primaries, duplicates, n_primary=n_primary):\n",
    "    arr[:n_primary] = primaries\n",
    "    arr[n_primary:] = duplicates\n",
    "\n",
    "plate   = np.zeros(shape=n_qso, dtype='i2')\n",
    "mjd     = np.zeros(shape=n_qso, dtype='i4')\n",
    "fiberid = np.zeros(shape=n_qso, dtype='i2')\n",
    "\n",
    "fill_array(plate, qso_catalog[\"plate\"], plate_duplicate)\n",
    "fill_array(mjd, qso_catalog[\"mjd\"], mjd_duplicate)\n",
    "fill_array(fiberid, qso_catalog[\"fiberid\"], fiberid_duplicate)"
   ]
  },
  {
   "cell_type": "markdown",
   "metadata": {},
   "source": [
    "# Combining"
   ]
  },
  {
   "cell_type": "code",
   "execution_count": 16,
   "metadata": {},
   "outputs": [
    {
     "data": {
      "text/plain": [
       "(629457,)"
      ]
     },
     "execution_count": 16,
     "metadata": {},
     "output_type": "execute_result"
    }
   ],
   "source": [
    "qso_multiindex = pd.MultiIndex.from_arrays(\n",
    "    [plate, mjd, fiberid],\n",
    "    names=[\"plate\", \"mjd\", \"fiberid\"]\n",
    ")\n",
    "\n",
    "qso_missing = qso_multiindex.difference(multiindex)\n",
    "qso_multiindex = qso_multiindex.difference(qso_missing)\n",
    "qso_multiindex.shape"
   ]
  },
  {
   "cell_type": "code",
   "execution_count": 17,
   "metadata": {},
   "outputs": [
    {
     "data": {
      "text/plain": [
       "((55,), MultiIndex([(2516, 54240,  21),\n",
       "             (2516, 54240,  64),\n",
       "             (2516, 54240,  93),\n",
       "             (2516, 54240,  98),\n",
       "             (2516, 54240,  99),\n",
       "             (2516, 54240, 119),\n",
       "             (2516, 54240, 122),\n",
       "             (2516, 54240, 125),\n",
       "             (2516, 54240, 157),\n",
       "             (2516, 54240, 165),\n",
       "             (2516, 54240, 188),\n",
       "             (2516, 54240, 196),\n",
       "             (2516, 54240, 197),\n",
       "             (2516, 54240, 201),\n",
       "             (2516, 54240, 213),\n",
       "             (2516, 54240, 218),\n",
       "             (2516, 54240, 250),\n",
       "             (2516, 54240, 289),\n",
       "             (2516, 54240, 303),\n",
       "             (2516, 54240, 330),\n",
       "             (2516, 54240, 342),\n",
       "             (2516, 54240, 346),\n",
       "             (2516, 54240, 362),\n",
       "             (2516, 54240, 369),\n",
       "             (2516, 54240, 394),\n",
       "             (2516, 54240, 407),\n",
       "             (2516, 54240, 419),\n",
       "             (2516, 54240, 424),\n",
       "             (2516, 54240, 467),\n",
       "             (2516, 54240, 472),\n",
       "             (2516, 54240, 473),\n",
       "             (2516, 54240, 474),\n",
       "             (2516, 54240, 476),\n",
       "             (2516, 54240, 481),\n",
       "             (2516, 54240, 484),\n",
       "             (2516, 54240, 501),\n",
       "             (2516, 54240, 504),\n",
       "             (2516, 54240, 505),\n",
       "             (2516, 54240, 550),\n",
       "             (2516, 54240, 557),\n",
       "             (2516, 54240, 562),\n",
       "             (2516, 54240, 575),\n",
       "             (2516, 54240, 584),\n",
       "             (2516, 54240, 587),\n",
       "             (2516, 54240, 590),\n",
       "             (2516, 54240, 591),\n",
       "             (2516, 54240, 603),\n",
       "             (2516, 54240, 619),\n",
       "             (2516, 54240, 639),\n",
       "             (2812, 54633, 125),\n",
       "             (2865, 54497, 128),\n",
       "             (2865, 54497, 141),\n",
       "             (2865, 54497, 294),\n",
       "             (2865, 54497, 435),\n",
       "             (2865, 54497, 570)],\n",
       "            names=['plate', 'mjd', 'fiberid']))"
      ]
     },
     "execution_count": 17,
     "metadata": {},
     "output_type": "execute_result"
    }
   ],
   "source": [
    "qso_missing.shape, qso_missing"
   ]
  },
  {
   "cell_type": "code",
   "execution_count": 18,
   "metadata": {},
   "outputs": [
    {
     "data": {
      "text/html": [
       "<div>\n",
       "<style scoped>\n",
       "    .dataframe tbody tr th:only-of-type {\n",
       "        vertical-align: middle;\n",
       "    }\n",
       "\n",
       "    .dataframe tbody tr th {\n",
       "        vertical-align: top;\n",
       "    }\n",
       "\n",
       "    .dataframe thead th {\n",
       "        text-align: right;\n",
       "    }\n",
       "</style>\n",
       "<table border=\"1\" class=\"dataframe\">\n",
       "  <thead>\n",
       "    <tr style=\"text-align: right;\">\n",
       "      <th></th>\n",
       "      <th></th>\n",
       "      <th></th>\n",
       "      <th>platequality</th>\n",
       "      <th>targettype</th>\n",
       "      <th>wavemax</th>\n",
       "      <th>wavemin</th>\n",
       "      <th>zwarning</th>\n",
       "      <th>unplugged</th>\n",
       "      <th>nodata</th>\n",
       "      <th>qso</th>\n",
       "    </tr>\n",
       "    <tr>\n",
       "      <th>plate</th>\n",
       "      <th>mjd</th>\n",
       "      <th>fiberid</th>\n",
       "      <th></th>\n",
       "      <th></th>\n",
       "      <th></th>\n",
       "      <th></th>\n",
       "      <th></th>\n",
       "      <th></th>\n",
       "      <th></th>\n",
       "      <th></th>\n",
       "    </tr>\n",
       "  </thead>\n",
       "  <tbody>\n",
       "    <tr>\n",
       "      <th rowspan=\"5\" valign=\"top\">266</th>\n",
       "      <th rowspan=\"5\" valign=\"top\">51602</th>\n",
       "      <th>1</th>\n",
       "      <td>bad</td>\n",
       "      <td>SCIENCE</td>\n",
       "      <td>9202.376953</td>\n",
       "      <td>3806.273682</td>\n",
       "      <td>0</td>\n",
       "      <td>False</td>\n",
       "      <td>False</td>\n",
       "      <td>False</td>\n",
       "    </tr>\n",
       "    <tr>\n",
       "      <th>2</th>\n",
       "      <td>bad</td>\n",
       "      <td>SCIENCE</td>\n",
       "      <td>9202.376953</td>\n",
       "      <td>3806.273682</td>\n",
       "      <td>0</td>\n",
       "      <td>False</td>\n",
       "      <td>False</td>\n",
       "      <td>False</td>\n",
       "    </tr>\n",
       "    <tr>\n",
       "      <th>3</th>\n",
       "      <td>bad</td>\n",
       "      <td>SCIENCE</td>\n",
       "      <td>9202.376953</td>\n",
       "      <td>3806.273682</td>\n",
       "      <td>0</td>\n",
       "      <td>False</td>\n",
       "      <td>False</td>\n",
       "      <td>False</td>\n",
       "    </tr>\n",
       "    <tr>\n",
       "      <th>4</th>\n",
       "      <td>bad</td>\n",
       "      <td>SCIENCE</td>\n",
       "      <td>9202.376953</td>\n",
       "      <td>3806.273682</td>\n",
       "      <td>0</td>\n",
       "      <td>False</td>\n",
       "      <td>False</td>\n",
       "      <td>False</td>\n",
       "    </tr>\n",
       "    <tr>\n",
       "      <th>5</th>\n",
       "      <td>bad</td>\n",
       "      <td>SCIENCE</td>\n",
       "      <td>9202.376953</td>\n",
       "      <td>3805.397217</td>\n",
       "      <td>0</td>\n",
       "      <td>False</td>\n",
       "      <td>False</td>\n",
       "      <td>False</td>\n",
       "    </tr>\n",
       "  </tbody>\n",
       "</table>\n",
       "</div>"
      ],
      "text/plain": [
       "                    platequality targettype      wavemax      wavemin  \\\n",
       "plate mjd   fiberid                                                     \n",
       "266   51602 1           bad        SCIENCE   9202.376953  3806.273682   \n",
       "            2           bad        SCIENCE   9202.376953  3806.273682   \n",
       "            3           bad        SCIENCE   9202.376953  3806.273682   \n",
       "            4           bad        SCIENCE   9202.376953  3806.273682   \n",
       "            5           bad        SCIENCE   9202.376953  3805.397217   \n",
       "\n",
       "                     zwarning  unplugged  nodata    qso  \n",
       "plate mjd   fiberid                                      \n",
       "266   51602 1               0      False   False  False  \n",
       "            2               0      False   False  False  \n",
       "            3               0      False   False  False  \n",
       "            4               0      False   False  False  \n",
       "            5               0      False   False  False  "
      ]
     },
     "execution_count": 18,
     "metadata": {},
     "output_type": "execute_result"
    }
   ],
   "source": [
    "catalog_df[\"qso\"] = False\n",
    "catalog_df.loc[qso_multiindex, \"qso\"] = True\n",
    "catalog_df.head()"
   ]
  },
  {
   "cell_type": "code",
   "execution_count": 19,
   "metadata": {},
   "outputs": [
    {
     "data": {
      "text/plain": [
       "629457"
      ]
     },
     "execution_count": 19,
     "metadata": {},
     "output_type": "execute_result"
    }
   ],
   "source": [
    "catalog_df[\"qso\"].sum()"
   ]
  },
  {
   "cell_type": "markdown",
   "metadata": {},
   "source": [
    "# Analysis"
   ]
  },
  {
   "cell_type": "code",
   "execution_count": 20,
   "metadata": {},
   "outputs": [
    {
     "data": {
      "image/png": "[encoded data removed]",
      "text/plain": [
       "<Figure size 432x288 with 1 Axes>"
      ]
     },
     "metadata": {
      "needs_background": "light"
     },
     "output_type": "display_data"
    }
   ],
   "source": [
    "def plot_spec(plate, mjd, fiberid):\n",
    "    dr_path = sdss.get_dr_path(plate, mjd, fiberid)\n",
    "    filepath = SDSS_DR14 / dr_path\n",
    "    with fits.open(filepath) as hdul:\n",
    "        data = hdul[1].data\n",
    "        ax = plt.axes(xlabel=\"Wavelength\", ylabel=\"Flux\")\n",
    "        ax.plot(np.power(10, data[\"loglam\"]), data[\"flux\"])\n",
    "\n",
    "a_qso = catalog_df[catalog_df[\"qso\"]].sample()\n",
    "plot_spec(*a_qso.index[0])"
   ]
  },
  {
   "cell_type": "code",
   "execution_count": 21,
   "metadata": {},
   "outputs": [
    {
     "data": {
      "image/png": "[encoded data removed]",
      "text/plain": [
       "<Figure size 432x288 with 1 Axes>"
      ]
     },
     "metadata": {
      "needs_background": "light"
     },
     "output_type": "display_data"
    }
   ],
   "source": [
    "a_nodata_spec = catalog_df[catalog_df[\"nodata\"]].sample()\n",
    "plot_spec(*a_nodata_spec.index[0])"
   ]
  },
  {
   "cell_type": "code",
   "execution_count": 22,
   "metadata": {},
   "outputs": [
    {
     "data": {
      "text/plain": [
       "True"
      ]
     },
     "execution_count": 22,
     "metadata": {},
     "output_type": "execute_result"
    }
   ],
   "source": [
    "np.all(catalog_df[\"wavemin\"].isna() == catalog_df[\"wavemax\"].isna())"
   ]
  },
  {
   "cell_type": "code",
   "execution_count": 23,
   "metadata": {},
   "outputs": [
    {
     "data": {
      "text/plain": [
       "Text(0.5, 0, 'Maximal wavelength (\\\\AA{})')"
      ]
     },
     "execution_count": 23,
     "metadata": {},
     "output_type": "execute_result"
    },
    {
     "data": {
      "image/png": "[encoded data removed]",
      "text/plain": [
       "<Figure size 432x288 with 2 Axes>"
      ]
     },
     "metadata": {
      "needs_background": "light"
     },
     "output_type": "display_data"
    }
   ],
   "source": [
    "fig, (ax1, ax2) = plt.subplots(ncols=2, sharey=True)\n",
    "catalog_df[\"wavemin\"].plot.hist(ax=ax1, bins=32, log=True)\n",
    "catalog_df[\"wavemax\"].plot.hist(ax=ax2, bins=32, log=True)\n",
    "ax1.set_xlabel(\"Minimal wavelength (\\AA{})\")\n",
    "ax2.set_xlabel(\"Maximal wavelength (\\AA{})\")"
   ]
  },
  {
   "cell_type": "code",
   "execution_count": 24,
   "metadata": {},
   "outputs": [
    {
     "data": {
      "image/png": "[encoded data removed]",
      "text/plain": [
       "<Figure size 432x288 with 2 Axes>"
      ]
     },
     "metadata": {
      "needs_background": "light"
     },
     "output_type": "display_data"
    }
   ],
   "source": [
    "fig, (ax1, ax2) = plt.subplots(nrows=2, sharex=True)\n",
    "ax1.set_xlabel(\"Wavelengths (\\AA{})\")\n",
    "ax2.set_xlabel(\"Wavelengths (\\AA{})\")\n",
    "catalog_df[\"wavemin\"].plot.hist(\n",
    "    ax=ax1, histtype='step', bins=32, cumulative=True,\n",
    "    label=\"Cumulative histogram of minimal wavelengths\"\n",
    ")\n",
    "catalog_df[\"wavemax\"].plot.hist(\n",
    "    ax=ax2, histtype='step', bins=32, cumulative=-1,\n",
    "    label=\"Cumulative histogram of maximal wavelengths\"\n",
    ")\n",
    "axvline_style = {\"linestyle\": \"dashed\", \"linewidth\": 1, \"color\": \"k\"}\n",
    "ax1.axvline(WAVEMIN, label=str(WAVEMIN) + \" \\AA{}\", **axvline_style)\n",
    "ax2.axvline(WAVEMAX, label=str(WAVEMAX) + \" \\AA{}\", **axvline_style)\n",
    "ax1.legend(loc=\"lower right\")\n",
    "ax2.legend(loc=\"lower left\")\n",
    "plt.savefig(str(FIGS_DIR / \"waves_cumulative_hist.pdf\"))"
   ]
  },
  {
   "cell_type": "code",
   "execution_count": 25,
   "metadata": {},
   "outputs": [
    {
     "data": {
      "text/plain": [
       "(4816713, 34487)"
      ]
     },
     "execution_count": 25,
     "metadata": {},
     "output_type": "execute_result"
    }
   ],
   "source": [
    "idx_selected = (catalog_df[\"wavemin\"] <= WAVEMIN) & (WAVEMAX <= catalog_df[\"wavemax\"])\n",
    "n_selected = idx_selected.sum()\n",
    "n_selected, n_spec - n_selected"
   ]
  },
  {
   "cell_type": "code",
   "execution_count": 26,
   "metadata": {},
   "outputs": [
    {
     "data": {
      "text/plain": [
       "((4816713, 8), (4851200, 8))"
      ]
     },
     "execution_count": 26,
     "metadata": {},
     "output_type": "execute_result"
    }
   ],
   "source": [
    "catalog_selected_df = catalog_df[idx_selected]\n",
    "catalog_selected_df.shape, catalog_df.shape"
   ]
  },
  {
   "cell_type": "code",
   "execution_count": 27,
   "metadata": {},
   "outputs": [
    {
     "data": {
      "text/plain": [
       "1949"
      ]
     },
     "execution_count": 27,
     "metadata": {},
     "output_type": "execute_result"
    }
   ],
   "source": [
    "catalog_df[\"qso\"].sum() - catalog_selected_df[\"qso\"].sum()"
   ]
  },
  {
   "cell_type": "code",
   "execution_count": 28,
   "metadata": {},
   "outputs": [
    {
     "data": {
      "text/plain": [
       "627508"
      ]
     },
     "execution_count": 28,
     "metadata": {},
     "output_type": "execute_result"
    }
   ],
   "source": [
    "catalog_selected_df[\"qso\"].sum()"
   ]
  },
  {
   "cell_type": "markdown",
   "metadata": {},
   "source": [
    "# Dataset"
   ]
  },
  {
   "cell_type": "code",
   "execution_count": 29,
   "metadata": {},
   "outputs": [],
   "source": [
    "N_TRAIN = 1000000\n",
    "N_VALID = 50000\n",
    "SIZE = N_TRAIN + N_VALID"
   ]
  },
  {
   "cell_type": "code",
   "execution_count": 30,
   "metadata": {},
   "outputs": [
    {
     "data": {
      "text/plain": [
       "(130904, 6552)"
      ]
     },
     "execution_count": 30,
     "metadata": {},
     "output_type": "execute_result"
    }
   ],
   "source": [
    "sample_df = catalog_selected_df.sample(SIZE, random_state=9)\n",
    "sample_df.iloc[:N_TRAIN][\"qso\"].sum(), sample_df.iloc[N_TRAIN:][\"qso\"].sum()"
   ]
  }
 ],
 "metadata": {
  "kernelspec": {
   "display_name": "venv3",
   "language": "python",
   "name": "venv3"
  },
  "language_info": {
   "codemirror_mode": {
    "name": "ipython",
    "version": 3
   },
   "file_extension": ".py",
   "mimetype": "text/x-python",
   "name": "python",
   "nbconvert_exporter": "python",
   "pygments_lexer": "ipython3",
   "version": "3.7.4"
  }
 },
 "nbformat": 4,
 "nbformat_minor": 4
}
