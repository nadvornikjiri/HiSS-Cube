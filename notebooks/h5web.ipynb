{
 "cells": [
  {
   "cell_type": "markdown",
   "metadata": {
    "pycharm": {
     "name": "#%%\n"
    },
    "tags": []
   },
   "source": [
    "# from jupyterlab_h5web import H5Web\n",
    "h5_path = \"../results/SDSS_cube.h5\"\n",
    "\n",
    "H5Web(h5_path)"
   ]
  },
  {
   "cell_type": "code",
   "execution_count": 5,
   "metadata": {},
   "outputs": [
    {
     "data": {
      "application/x-hdf5": "/home/caucau/SDSSCube/notebooks/../results/SDSS_cube_big.h5",
      "text/plain": [
       "<jupyterlab_h5web.widget.H5Web object>"
      ]
     },
     "execution_count": 5,
     "metadata": {},
     "output_type": "execute_result"
    }
   ],
   "source": [
    "from jupyterlab_h5web import H5Web\n",
    "h5_path = \"../results/SDSS_cube_big.h5\"\n",
    "\n",
    "H5Web(h5_path)"
   ]
  },
  {
   "cell_type": "code",
   "execution_count": 6,
   "metadata": {},
   "outputs": [
    {
     "data": {
      "application/x-hdf5": "/home/caucau/SDSSCube/notebooks/../results/SDSS_cube_big_2.h5",
      "text/plain": [
       "<jupyterlab_h5web.widget.H5Web object>"
      ]
     },
     "execution_count": 6,
     "metadata": {},
     "output_type": "execute_result"
    }
   ],
   "source": [
    "from jupyterlab_h5web import H5Web\n",
    "h5_path = \"../results/SDSS_cube_big_2.h5\"\n",
    "\n",
    "H5Web(h5_path)"
   ]
  },
  {
   "cell_type": "code",
   "execution_count": 22,
   "metadata": {},
   "outputs": [
    {
     "name": "stdout",
     "output_type": "stream",
     "text": [
      "(2048, 1489, 1025., 745., 7.989982e-09, 0.00010998, 0.00010997, 7.623859e-08, 46.63807, -0.3150463, b'RA---TAN', b'DEC--TAN')\n",
      "7.62385941833e-08\n",
      "(1024, 744, 512.5, 372.5, 1.5979964e-08, 0.00021996, 0.00021993, 1.5247718e-07, 46.63807, -0.3150463, b'RA---TAN', b'DEC--TAN')\n",
      "1.524771883666e-07\n",
      "(512, 372, 256.25, 186.25, 3.1959928e-08, 0.00043992, 0.00043986, 3.0495437e-07, 46.63807, -0.3150463, b'RA---TAN', b'DEC--TAN')\n",
      "3.049543767332e-07\n",
      "(256, 186, 128.125, 93.125, 6.3919856e-08, 0.00087985, 0.00087973, 6.0990874e-07, 46.63807, -0.3150463, b'RA---TAN', b'DEC--TAN')\n",
      "6.099087534664e-07\n"
     ]
    }
   ],
   "source": [
    "import h5py\n",
    "import ujson\n",
    "with h5py.File(h5_path) as file:\n",
    "    for i in range(4):\n",
    "        print(file[\"semi_sparse_cube/%d/images/wcs\" % i][100])\n",
    "        print(ujson.loads(file[\"semi_sparse_cube/%d/images/metadata\" % i][100][\"header\"])[\"CD2_2\"])"
   ]
  },
  {
   "cell_type": "code",
   "execution_count": 3,
   "metadata": {},
   "outputs": [],
   "source": [
    "file.close()"
   ]
  }
 ],
 "metadata": {
  "kernelspec": {
   "display_name": "Python 3",
   "language": "python",
   "name": "python3"
  },
  "language_info": {
   "codemirror_mode": {
    "name": "ipython",
    "version": 3
   },
   "file_extension": ".py",
   "mimetype": "text/x-python",
   "name": "python",
   "nbconvert_exporter": "python",
   "pygments_lexer": "ipython3",
   "version": "3.8.13"
  }
 },
 "nbformat": 4,
 "nbformat_minor": 4
}
